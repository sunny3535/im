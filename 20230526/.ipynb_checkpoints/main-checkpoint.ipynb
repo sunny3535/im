{
 "cells": [
  {
   "cell_type": "markdown",
   "id": "9813e30c",
   "metadata": {},
   "source": [
    "### STEP 1 : 필요한 모듈 import"
   ]
  },
  {
   "cell_type": "code",
   "execution_count": null,
   "id": "9ae72c7f",
   "metadata": {
    "scrolled": false
   },
   "outputs": [],
   "source": [
    "# 필요한 모듈 import\n"
   ]
  },
  {
   "cell_type": "markdown",
   "id": "08f569e2",
   "metadata": {},
   "source": [
    "### STEP 2 : 데이터 전처리"
   ]
  },
  {
   "cell_type": "code",
   "execution_count": null,
   "id": "ad21136a",
   "metadata": {},
   "outputs": [],
   "source": []
  },
  {
   "cell_type": "code",
   "execution_count": null,
   "id": "c2ec2e32",
   "metadata": {},
   "outputs": [],
   "source": [
    "#맷플롯립 중 그래프를 그리는 pyplot 모듈을 불러와 plt라는 별명으로 사용\n"
   ]
  },
  {
   "cell_type": "markdown",
   "id": "2c03dad6",
   "metadata": {},
   "source": [
    "### STEP 3 : 모델 정의"
   ]
  },
  {
   "cell_type": "code",
   "execution_count": null,
   "id": "7ae34c27",
   "metadata": {},
   "outputs": [],
   "source": []
  },
  {
   "cell_type": "markdown",
   "id": "d936d744",
   "metadata": {},
   "source": [
    "### STEP 4 : 모델 생성"
   ]
  },
  {
   "cell_type": "code",
   "execution_count": null,
   "id": "8497b532",
   "metadata": {},
   "outputs": [],
   "source": []
  },
  {
   "cell_type": "markdown",
   "id": "723fc072",
   "metadata": {},
   "source": [
    "### STEP 5 : 학습"
   ]
  },
  {
   "cell_type": "code",
   "execution_count": null,
   "id": "31f81452",
   "metadata": {},
   "outputs": [],
   "source": []
  },
  {
   "cell_type": "markdown",
   "id": "cb754137",
   "metadata": {},
   "source": [
    "### STEP 6 : 검증"
   ]
  },
  {
   "cell_type": "code",
   "execution_count": null,
   "id": "18a1604a",
   "metadata": {},
   "outputs": [],
   "source": []
  },
  {
   "cell_type": "markdown",
   "id": "31565651",
   "metadata": {},
   "source": [
    "### STEP 7 : 모델 저장"
   ]
  },
  {
   "cell_type": "code",
   "execution_count": null,
   "id": "dd7a7cc9",
   "metadata": {},
   "outputs": [],
   "source": []
  }
 ],
 "metadata": {
  "kernelspec": {
   "display_name": "im_000000",
   "language": "python",
   "name": "im_000000"
  },
  "language_info": {
   "codemirror_mode": {
    "name": "ipython",
    "version": 3
   },
   "file_extension": ".py",
   "mimetype": "text/x-python",
   "name": "python",
   "nbconvert_exporter": "python",
   "pygments_lexer": "ipython3",
   "version": "3.9.13"
  }
 },
 "nbformat": 4,
 "nbformat_minor": 5
}
