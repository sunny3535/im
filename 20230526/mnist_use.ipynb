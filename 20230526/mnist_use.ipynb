{
 "cells": [
  {
   "cell_type": "code",
   "execution_count": 651,
   "id": "6fa25445",
   "metadata": {},
   "outputs": [],
   "source": [
    "import cv2\n",
    "from tensorflow import keras\n",
    "\n"
   ]
  },
  {
   "cell_type": "code",
   "execution_count": 715,
   "id": "7511ab9f",
   "metadata": {},
   "outputs": [
    {
     "data": {
      "text/plain": [
       "(28, 28)"
      ]
     },
     "execution_count": 715,
     "metadata": {},
     "output_type": "execute_result"
    }
   ],
   "source": [
    "img = cv2.imread('6.jpg', cv2.IMREAD_GRAYSCALE)\n",
    "\n",
    "img.shape\n"
   ]
  },
  {
   "cell_type": "code",
   "execution_count": 716,
   "id": "dacd15ba",
   "metadata": {},
   "outputs": [],
   "source": [
    "img_gray2 = 1-img"
   ]
  },
  {
   "cell_type": "code",
   "execution_count": 717,
   "id": "800fae8c",
   "metadata": {
    "scrolled": true
   },
   "outputs": [
    {
     "data": {
      "text/plain": [
       "<matplotlib.image.AxesImage at 0x1d326bb73d0>"
      ]
     },
     "execution_count": 717,
     "metadata": {},
     "output_type": "execute_result"
    },
    {
     "data": {
      "image/png": "[encoded data removed]",
      "text/plain": [
       "<Figure size 640x480 with 1 Axes>"
      ]
     },
     "metadata": {},
     "output_type": "display_data"
    }
   ],
   "source": [
    "import matplotlib.pyplot as plt\n",
    "\n",
    "\n",
    "plt.imshow(img_gray2, cmap='gray')"
   ]
  },
  {
   "cell_type": "code",
   "execution_count": 718,
   "id": "eb77ca48",
   "metadata": {},
   "outputs": [
    {
     "name": "stdout",
     "output_type": "stream",
     "text": [
      "[[  2   2   2   2   2   2   2   2   2   4   2  17 153 195 166  30   2   2   2   2   2   2   2   2   2   2   2   2]\n",
      " [  2   2   2   2   2   2   2   2   2   2  18 187 254 254   1 190   2   2   2   2   2   2   2   2   2   2   2   2]\n",
      " [  2   2   2   2   2   2   2   2   5   2 165 255 254   1 255   1   2   2   2   2   2   2   2   2   2   2   2   2]\n",
      " [  2   2   2   2   2   2   2   2   2  20 242   1   1   1   0 253   2   2   2   2   2   2   2   2   2   2   2   2]\n",
      " [  2   2   2   2   2   2   2   2   2 163   1 254   0 252   1 225   2   2   2   2   2   2   2   2   2   2   2   2]\n",
      " [  2   2   2   2   2   2   2   2   6 237 254   1   0   1   1  74   2   2   2   2   2   2   2   2   2   2   2   2]\n",
      " [  2   2   2   2   2   2   2   2  17 255   1 255   1   1 222   2   2   2   2   2   2   2   2   2   2   2   2   2]\n",
      " [  2   2   2   2   2   2   2   2 155 255   1   1   0   1  75   2   2   2   2   2   2   2   2   2   2   2   2   2]\n",
      " [  2   4   2   2   2   4   2   2 241   1   1   0   1 185   2   2   2   4   2   2   6   2   2   2   2   2   2   2]\n",
      " [  4   2   2   5   2   2   6   2   1   1 255   0 253  68   2   5   2   2   5   5   2   3   5   2   2   2   2   2]\n",
      " [  3   2   2   2   3   7   2  17   0   1   1   1   1   2   5   2   2   2   2   4   2   2   3   2   2   2   2   2]\n",
      " [  2   2   6   3   2   2   6 165   1   1   1 251   1 255   1 253   1   1   1 225 171  23   3   4   2   2   2   2]\n",
      " [  3   2   2   2   4   2   2 238 255 255 254   1   1   1 254   1   1 255   1   0 252 213  26   2   2   2   2   2]\n",
      " [  2   7   2   2   2   5   5   1   1 255   1   1 252 255   1 253 254   1 251   1   1 255 209  27   2   2   2   2]\n",
      " [  3   2   2   5   3   2   3 255   1 254   1   0   1   1 253   1   1   1   1 255 254   1   1 192   2   2   2   2]\n",
      " [  2   2   4   2   3   2   5   0   1   1   1 255   1   1   1   1   1   0   1 255   1   1   1   1   2   2   2   2]\n",
      " [  2   2   3   2   2   2   2   1   1   1   1 254 233  73   2   2   2  42 224   1   0   1   1   1   2   2   2   2]\n",
      " [  2   3   2   2   2   3   3 251   1   1 247   1   2   3   3   2   3   5  43 255   1   0 252   0   2   2   2   2]\n",
      " [  4   2   2   5   3   2   6   1 255   1   1   0   4   2   2   2   2   2  18 254   0   1   1   0   2   2   2   2]\n",
      " [  3   2   2   3   3   2   3   1   1   1 255   1   2   2   3   5   4   6 157   1   0   1 254   1   2   2   2   2]\n",
      " [  2   3   4   2   2   6   2 253   1 254   0   1  24   6   6   2   2  17 242 255   1   1 253   1   2   2   2   2]\n",
      " [  2   2   3   2   2   3   2   1   1   1   1   1 225 168  22   5  20 183   1   1   1   1   1 223   2   2   2   2]\n",
      " [  3   2   2   5   3   2   3 245   0   1   1 255   1   1   1   1   1   0 255   0   0   1   1  72   2   2   2   2]\n",
      " [  2   6   2   3   2   4   2 196   1   1   1   1   0 255   1 255 255   1   1   0   1 254 227   2   2   2   2   2]\n",
      " [  2   4   2   2   4   2   3  40 226   1   1   1 253   1 255   1   1 255   1   1   0 243  69   5   2   2   2   2]\n",
      " [  2   2   2   2   5   5   2   7  40 217 255 255   1   0   1 254   1   1 253   0 243  72   4   2   2   2   2   2]\n",
      " [  2   2   4   2   2   4   2   2   5   2  43 221 250   1   0   1   1   1   1 236  74   2   2   2   2   2   2   2]\n",
      " [  3   2   3   3   2   2   4   5   2   2   2   4   4   2   4   2   2   4   2   5   3   3   2   6   2   2   2   2]]\n"
     ]
    }
   ],
   "source": [
    "import numpy as np\n",
    "np.set_printoptions(linewidth=np.inf) \n",
    "\n",
    "print(img_gray2)\n"
   ]
  },
  {
   "cell_type": "code",
   "execution_count": 719,
   "id": "998bddf9",
   "metadata": {
    "scrolled": true
   },
   "outputs": [
    {
     "name": "stdout",
     "output_type": "stream",
     "text": [
      "(28, 28)\n",
      "(1, 784)\n"
     ]
    }
   ],
   "source": [
    "print(img_gray2.shape)\n",
    "img_gray2 = img_gray2.reshape(1,784)\n",
    "print(img_gray2.shape)"
   ]
  },
  {
   "cell_type": "code",
   "execution_count": 720,
   "id": "ebb05caf",
   "metadata": {},
   "outputs": [
    {
     "name": "stdout",
     "output_type": "stream",
     "text": [
      "[[  2   2   2   2   2   2   2   2   2   4   2  17 153 195 166  30   2   2   2   2   2   2   2   2   2   2   2   2   2   2   2   2   2   2   2   2   2   2  18 187 254 254   1 190   2   2   2   2   2   2   2   2   2   2   2   2   2   2   2   2   2   2   2   2   5   2 165 255 254   1 255   1   2   2   2   2   2   2   2   2   2   2   2   2   2   2   2   2   2   2   2   2   2  20 242   1   1   1   0 253   2   2   2   2   2   2   2   2   2   2   2   2   2   2   2   2   2   2   2   2   2 163   1 254   0 252   1 225   2   2   2   2   2   2   2   2   2   2   2   2   2   2   2   2   2   2   2   2   6 237 254   1   0   1   1  74   2   2   2   2   2   2   2   2   2   2   2   2   2   2   2   2   2   2   2   2  17 255   1 255   1   1 222   2   2   2   2   2   2   2   2   2   2   2   2   2   2   2   2   2   2   2   2   2 155 255   1   1   0   1  75   2   2   2   2   2   2   2   2   2   2   2   2   2   2   4   2   2   2   4   2   2 241   1   1   0   1 185   2   2   2   4   2   2   6   2   2   2   2   2   2   2   4   2   2   5   2   2   6   2   1   1 255   0 253  68   2   5   2   2   5   5   2   3   5   2   2   2   2   2   3   2   2   2   3   7   2  17   0   1   1   1   1   2   5   2   2   2   2   4   2   2   3   2   2   2   2   2   2   2   6   3   2   2   6 165   1   1   1 251   1 255   1 253   1   1   1 225 171  23   3   4   2   2   2   2   3   2   2   2   4   2   2 238 255 255 254   1   1   1 254   1   1 255   1   0 252 213  26   2   2   2   2   2   2   7   2   2   2   5   5   1   1 255   1   1 252 255   1 253 254   1 251   1   1 255 209  27   2   2   2   2   3   2   2   5   3   2   3 255   1 254   1   0   1   1 253   1   1   1   1 255 254   1   1 192   2   2   2   2   2   2   4   2   3   2   5   0   1   1   1 255   1   1   1   1   1   0   1 255   1   1   1   1   2   2   2   2   2   2   3   2   2   2   2   1   1   1   1 254 233  73   2   2   2  42 224   1   0   1   1   1   2   2   2   2   2   3   2   2   2   3   3 251   1   1 247   1   2   3   3   2   3   5  43 255   1   0 252   0   2   2   2   2   4   2   2   5   3   2   6   1 255   1   1   0   4   2   2   2   2   2  18 254   0   1   1   0   2   2   2   2   3   2   2   3   3   2   3   1   1   1 255   1   2   2   3   5   4   6 157   1   0   1 254   1   2   2   2   2   2   3   4   2   2   6   2 253   1 254   0   1  24   6   6   2   2  17 242 255   1   1 253   1   2   2   2   2   2   2   3   2   2   3   2   1   1   1   1   1 225 168  22   5  20 183   1   1   1   1   1 223   2   2   2   2   3   2   2   5   3   2   3 245   0   1   1 255   1   1   1   1   1   0 255   0   0   1   1  72   2   2   2   2   2   6   2   3   2   4   2 196   1   1   1   1   0 255   1 255 255   1   1   0   1 254 227   2   2   2   2   2   2   4   2   2   4   2   3  40 226   1   1   1 253   1 255   1   1 255   1   1   0 243  69   5   2   2   2   2   2   2   2   2   5   5   2   7  40 217 255 255   1   0   1 254   1   1 253   0 243  72   4   2   2   2   2   2   2   2   4   2   2   4   2   2   5   2  43 221 250   1   0   1   1   1   1 236  74   2   2   2   2   2   2   2   3   2   3   3   2   2   4   5   2   2   2   4   4   2   4   2   2   4   2   5   3   3   2   6   2   2   2   2]]\n"
     ]
    }
   ],
   "source": [
    "print(img_gray2)"
   ]
  },
  {
   "cell_type": "code",
   "execution_count": 721,
   "id": "77894355",
   "metadata": {},
   "outputs": [],
   "source": [
    "img_gray2 = np.array(img_gray2) / 255"
   ]
  },
  {
   "cell_type": "code",
   "execution_count": 722,
   "id": "eddcba38",
   "metadata": {},
   "outputs": [
    {
     "name": "stdout",
     "output_type": "stream",
     "text": [
      "float64\n"
     ]
    }
   ],
   "source": [
    "print(img_gray2.dtype)"
   ]
  },
  {
   "cell_type": "code",
   "execution_count": 725,
   "id": "b50954d2",
   "metadata": {
    "scrolled": true
   },
   "outputs": [
    {
     "name": "stdout",
     "output_type": "stream",
     "text": [
      "1/1 [==============================] - 0s 49ms/step\n",
      "[[1.0491600e-05 2.0310825e-08 4.4257785e-08 2.8017492e-05 7.0303548e-07 9.1572189e-01 7.9424240e-02 3.2368573e-06 4.6871589e-03 1.2421788e-04]]\n",
      "1/1 [==============================] - 0s 24ms/step\n"
     ]
    }
   ],
   "source": [
    "model = keras.models.load_model('mnist.h5')\n",
    "print(model.predict(img_gray2))\n",
    "res = np.argmax(model.predict(img_gray2))"
   ]
  },
  {
   "cell_type": "code",
   "execution_count": 724,
   "id": "83bd6568",
   "metadata": {},
   "outputs": [
    {
     "data": {
      "text/plain": [
       "5"
      ]
     },
     "execution_count": 724,
     "metadata": {},
     "output_type": "execute_result"
    }
   ],
   "source": [
    "res"
   ]
  },
  {
   "cell_type": "code",
   "execution_count": null,
   "id": "c96e7158",
   "metadata": {},
   "outputs": [],
   "source": []
  },
  {
   "cell_type": "code",
   "execution_count": null,
   "id": "6e12e955",
   "metadata": {},
   "outputs": [],
   "source": []
  },
  {
   "cell_type": "code",
   "execution_count": null,
   "id": "ead29b2d",
   "metadata": {},
   "outputs": [],
   "source": []
  }
 ],
 "metadata": {
  "kernelspec": {
   "display_name": "im_000000",
   "language": "python",
   "name": "im_000000"
  },
  "language_info": {
   "codemirror_mode": {
    "name": "ipython",
    "version": 3
   },
   "file_extension": ".py",
   "mimetype": "text/x-python",
   "name": "python",
   "nbconvert_exporter": "python",
   "pygments_lexer": "ipython3",
   "version": "3.9.13"
  }
 },
 "nbformat": 4,
 "nbformat_minor": 5
}
