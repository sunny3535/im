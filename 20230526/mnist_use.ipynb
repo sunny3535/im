{
 "cells": [
  {
   "cell_type": "code",
   "execution_count": 136,
   "id": "6fa25445",
   "metadata": {},
   "outputs": [
    {
     "data": {
      "text/plain": [
       "(28, 28)"
      ]
     },
     "execution_count": 136,
     "metadata": {},
     "output_type": "execute_result"
    }
   ],
   "source": [
    "import cv2\n",
    "from tensorflow import keras\n",
    "\n",
    "img = cv2.imread('7_1.jpg', cv2.IMREAD_GRAYSCALE)\n",
    "img.shape\n"
   ]
  },
  {
   "cell_type": "code",
   "execution_count": 137,
   "id": "800fae8c",
   "metadata": {
    "scrolled": true
   },
   "outputs": [
    {
     "data": {
      "text/plain": [
       "<matplotlib.image.AxesImage at 0x271a6d9e070>"
      ]
     },
     "execution_count": 137,
     "metadata": {},
     "output_type": "execute_result"
    },
    {
     "data": {
      "image/png": "[encoded data removed]",
      "text/plain": [
       "<Figure size 640x480 with 1 Axes>"
      ]
     },
     "metadata": {},
     "output_type": "display_data"
    }
   ],
   "source": [
    "import matplotlib.pyplot as plt\n",
    "\n",
    "plt.imshow(img, cmap='gray')"
   ]
  },
  {
   "cell_type": "code",
   "execution_count": 138,
   "id": "eb77ca48",
   "metadata": {
    "scrolled": true
   },
   "outputs": [
    {
     "name": "stdout",
     "output_type": "stream",
     "text": [
      "[[  0   2   0   0   0   0   1   0   2   0   1   0   3   0   0   0   1   0   0   1   1   0   0   1   0   1   2   0]\n",
      " [  0   3   0   0   1   0   2   4   0   0   2   0   1   0   3   4   1   5   5   0   0   3   5   2   1   0   0   1]\n",
      " [  1   0   0   4   1   0   1   0   0   4   1   0   5   3   0   0   0   0   0   0   0   0   1   4   1   0   4   1]\n",
      " [  0   2   3   0   0   1   2   0   3   0   0   3   0   0   5   2   0   0   0   2   1   0   0   2   1   1   0   0]\n",
      " [  1   1   0   0   3   2   0   3   0   2   1   0   0   2   1   0   3   0   0   0   0   0   0   0   0   2   0   0]\n",
      " [  0   0   4   2   0   0   0   0   0   1   0   1   2   0   0   3   0   7   0   5  97 221 255 221 100   0   4   0]\n",
      " [  1   0   0   0   0   3   0   1   1   0   1   0  21 124 223 255 255 255 254 254 253 254 254 254 246   0   1   0]\n",
      " [  0   3   0   0   4   0  73 221 253 255 254 255 253 255 254 254 255 254 254 255 255 255 255 255 255   0   2   0]\n",
      " [  0   2   2   0   1  71 236 254 255 254 255 255 253 255 252 255 255 255 255 255 255 254 254 253 255   0   3   1]\n",
      " [  3   0   1   0   5 223 253 255 254 255 250 254 255 226  97   0   1   0   0   0   0 255 255 255 148   6   0   0]\n",
      " [  0   0   0   1   0 117 255 253 151   0   5   0   0   0   0   2   1   0   4   0 106 251 255 251   0   0   2   0]\n",
      " [  2   1   3   6   0   4   0   1   0   0   0   1   0   0   0   0   0   1   2   0 230 255 255 172   2   5   0   0]\n",
      " [  0   2   0   0   0   0   2   1   0   0   3   0   2   0   3   0   2   3   0 104 255 252 253   5   0   0   0   5]\n",
      " [  1   0   3   0   3   1   0   0   0   5   0   0   2   0   0   2   0   0   4 230 253 254 169   2   1   3   1   0]\n",
      " [  0   3   2   2   0   0   0   2   1   0   0   6   0   0   5   0   2   0   0 254 255 255   2   1   0   0   0   2]\n",
      " [  3   0   6   0   0   4   0   0   1   0   1   0   0   1   0   0   0   0 105 254 255 255   0   0   0   0   2   2]\n",
      " [  1   1   1   1   1   0   0   0   0   0   0   0   0   0   0   0   0   0 231 255 255 168   0   1   0   0   0   0]\n",
      " [  1   1   1   1   1   0   0   0   0   0   0   0   0   0   0   0   0   1 255 255 254   7   2   0   0   0   0   0]\n",
      " [  1   1   1   1   1   0   0   0   0   0   0   0   0   0   0   0   2   1 254 253 254   3   0   2   0   0   0   0]\n",
      " [  1   1   1   1   1   0   0   0   0   0   0   0   0   0   0   0   0 101 255 255 251   4   0   1   0   0   0   0]\n",
      " [  1   1   1   1   1   0   0   0   0   0   0   0   0   0   0   0   0 232 255 255 164   0   0   0   0   0   0   0]\n",
      " [  0   1   1   1   1   0   0   0   0   0   0   0   0   0   0   0   2 253 255 254   6   1   1   3   0   0   0   0]\n",
      " [  0   0   0   1   0   0   0   0   0   0   0   0   0   0   0   0   2 255 254 254   4   0   0   0   0   0   0   0]\n",
      " [  0   0   0   0   0   0   0   0   0   0   0   0   0   0   0   0   0 247 255 255   0   3   2   4   0   0   0   0]\n",
      " [  0   0   0   0   0   0   0   0   0   0   0   0   0   0   0   0   1 120 253 151   2   0   1   0   0   0   0   0]\n",
      " [  0   0   0   0   0   0   0   0   0   0   0   0   0   0   0   0   0   0   3   2   0   0   0   2   0   0   0   0]\n",
      " [  0   0   0   0   0   0   0   0   0   0   0   0   0   0   0   0   0   2   0   0   4   2   1   0   0   0   0   0]\n",
      " [  0   0   0   0   0   0   0   0   0   0   0   0   0   0   0   0   2   0   5   2   0   0   0   0   0   0   0   0]]\n"
     ]
    }
   ],
   "source": [
    "import numpy as np\n",
    "np.set_printoptions(linewidth=np.inf) \n",
    "\n",
    "print(img)\n"
   ]
  },
  {
   "cell_type": "code",
   "execution_count": 139,
   "id": "998bddf9",
   "metadata": {
    "scrolled": true
   },
   "outputs": [
    {
     "name": "stdout",
     "output_type": "stream",
     "text": [
      "(28, 28)\n",
      "(1, 784)\n"
     ]
    }
   ],
   "source": [
    "print(img.shape)\n",
    "img = img.reshape(1,784)\n",
    "print(img.shape)"
   ]
  },
  {
   "cell_type": "code",
   "execution_count": 134,
   "id": "77894355",
   "metadata": {},
   "outputs": [
    {
     "name": "stdout",
     "output_type": "stream",
     "text": [
      "float64\n"
     ]
    }
   ],
   "source": [
    "img = np.array(img) / 255\n",
    "print(img.dtype)"
   ]
  },
  {
   "cell_type": "code",
   "execution_count": 135,
   "id": "b50954d2",
   "metadata": {
    "scrolled": true
   },
   "outputs": [
    {
     "name": "stdout",
     "output_type": "stream",
     "text": [
      "1/1 [==============================] - 0s 32ms/step\n"
     ]
    },
    {
     "data": {
      "text/plain": [
       "6"
      ]
     },
     "execution_count": 135,
     "metadata": {},
     "output_type": "execute_result"
    }
   ],
   "source": [
    "model = keras.models.load_model('mnist.h5')\n",
    "# model.predict(img)\n",
    "res = np.argmax(model.predict(img))\n",
    "res"
   ]
  },
  {
   "cell_type": "code",
   "execution_count": null,
   "id": "53d0a824",
   "metadata": {},
   "outputs": [],
   "source": []
  }
 ],
 "metadata": {
  "kernelspec": {
   "display_name": "im_000000",
   "language": "python",
   "name": "im_000000"
  },
  "language_info": {
   "codemirror_mode": {
    "name": "ipython",
    "version": 3
   },
   "file_extension": ".py",
   "mimetype": "text/x-python",
   "name": "python",
   "nbconvert_exporter": "python",
   "pygments_lexer": "ipython3",
   "version": "3.9.13"
  }
 },
 "nbformat": 4,
 "nbformat_minor": 5
}
