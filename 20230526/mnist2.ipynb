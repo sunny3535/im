{
 "cells": [
  {
   "cell_type": "code",
   "execution_count": 3,
   "id": "96e5dc70",
   "metadata": {},
   "outputs": [
    {
     "name": "stdout",
     "output_type": "stream",
     "text": [
      "Epoch 1/5\n",
      "1875/1875 [==============================] - 12s 6ms/step - loss: 0.1859 - accuracy: 0.9432 - val_loss: 0.0961 - val_accuracy: 0.9720\n",
      "Epoch 2/5\n",
      "1875/1875 [==============================] - 12s 6ms/step - loss: 0.0841 - accuracy: 0.9757 - val_loss: 0.0963 - val_accuracy: 0.9730\n",
      "Epoch 3/5\n",
      "1875/1875 [==============================] - 14s 8ms/step - loss: 0.0629 - accuracy: 0.9826 - val_loss: 0.0778 - val_accuracy: 0.9799\n",
      "Epoch 4/5\n",
      "1875/1875 [==============================] - 15s 8ms/step - loss: 0.0484 - accuracy: 0.9868 - val_loss: 0.0845 - val_accuracy: 0.9787\n",
      "Epoch 5/5\n",
      "1875/1875 [==============================] - 15s 8ms/step - loss: 0.0381 - accuracy: 0.9896 - val_loss: 0.1105 - val_accuracy: 0.9789\n"
     ]
    }
   ],
   "source": [
    "from tensorflow.keras.datasets import mnist\n",
    "\n",
    "(x_train, y_train), (x_valid, y_valid) = mnist.load_data()\n",
    "\n",
    "# 데이터 전처리1. 데이터 평탄화\n",
    "x_train = x_train.reshape(60000, 784)\n",
    "x_valid = x_valid.reshape(10000, 784)\n",
    "\n",
    "# 데이터 전처리2. 데이터 정규화\n",
    "x_train = x_train / 255\n",
    "x_valid = x_valid / 255\n",
    "\n",
    "# 데이터 전처리3. 원핫인코딩\n",
    "import tensorflow.keras as keras\n",
    "num_categories = 10\n",
    "\n",
    "y_train = keras.utils.to_categorical(y_train, num_categories)\n",
    "y_valid = keras.utils.to_categorical(y_valid, num_categories)\n",
    "\n",
    "# 모델 생성\n",
    "from tensorflow.keras.models import Sequential\n",
    "model = Sequential()\n",
    "\n",
    "# 입력 레이어 생성\n",
    "from tensorflow.keras.layers import Dense\n",
    "model.add(Dense(units=512, activation='relu', input_shape=(784,)))\n",
    "\n",
    "# 히든 레이어 생성\n",
    "model.add(Dense(units=512, activation='relu'))\n",
    "\n",
    "# 출력 레이어 생성\n",
    "model.add(Dense(units=10, activation='softmax'))\n",
    "\n",
    "# 모델 컴파일\n",
    "model.compile(loss='categorical_crossentropy', metrics=['accuracy'])\n",
    "\n",
    "# 모델 fit\n",
    "history = model.fit(x_train, y_train, epochs=5, validation_data=(x_valid, y_valid))\n",
    "\n",
    "model.save('mnist.h5')"
   ]
  }
 ],
 "metadata": {
  "kernelspec": {
   "display_name": "im_000000",
   "language": "python",
   "name": "im_000000"
  },
  "language_info": {
   "codemirror_mode": {
    "name": "ipython",
    "version": 3
   },
   "file_extension": ".py",
   "mimetype": "text/x-python",
   "name": "python",
   "nbconvert_exporter": "python",
   "pygments_lexer": "ipython3",
   "version": "3.9.13"
  }
 },
 "nbformat": 4,
 "nbformat_minor": 5
}
