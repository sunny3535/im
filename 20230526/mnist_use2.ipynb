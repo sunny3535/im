{
 "cells": [
  {
   "cell_type": "code",
   "execution_count": 16,
   "id": "643435d1",
   "metadata": {},
   "outputs": [
    {
     "name": "stdout",
     "output_type": "stream",
     "text": [
      "1/1 [==============================] - 0s 78ms/step\n"
     ]
    },
    {
     "data": {
      "text/plain": [
       "8"
      ]
     },
     "execution_count": 16,
     "metadata": {},
     "output_type": "execute_result"
    }
   ],
   "source": [
    "import cv2\n",
    "from tensorflow import keras\n",
    "\n",
    "img = cv2.imread('./data/6_1.jpg', cv2.IMREAD_GRAYSCALE)\n",
    "\n",
    "# import matplotlib.pyplot as plt\n",
    "# plt.imshow(img, cmap='gray')\n",
    "# plt.show()\n",
    "\n",
    "# 데이터 전처리\n",
    "import numpy as np\n",
    "img = img.reshape(1, 784)\n",
    "img = np.array(img) / 255\n",
    "\n",
    "model = keras.models.load_model('mnist.h5')\n",
    "res = np.argmax(model.predict(img))\n",
    "res"
   ]
  }
 ],
 "metadata": {
  "kernelspec": {
   "display_name": "im_000000",
   "language": "python",
   "name": "im_000000"
  },
  "language_info": {
   "codemirror_mode": {
    "name": "ipython",
    "version": 3
   },
   "file_extension": ".py",
   "mimetype": "text/x-python",
   "name": "python",
   "nbconvert_exporter": "python",
   "pygments_lexer": "ipython3",
   "version": "3.9.13"
  }
 },
 "nbformat": 4,
 "nbformat_minor": 5
}
