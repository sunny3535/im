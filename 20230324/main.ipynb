{
 "cells": [
  {
   "cell_type": "code",
   "execution_count": 1,
   "id": "8772f983",
   "metadata": {},
   "outputs": [
    {
     "name": "stderr",
     "output_type": "stream",
     "text": [
      "C:\\Users\\sunny\\anaconda3\\envs\\im_000000\\lib\\site-packages\\numpy\\_distributor_init.py:30: UserWarning: loaded more than 1 DLL from .libs:\n",
      "C:\\Users\\sunny\\anaconda3\\envs\\im_000000\\lib\\site-packages\\numpy\\.libs\\libopenblas.FB5AE2TYXYH2IJRDKGDGQ3XBKLKTF43H.gfortran-win_amd64.dll\n",
      "C:\\Users\\sunny\\anaconda3\\envs\\im_000000\\lib\\site-packages\\numpy\\.libs\\libopenblas64__v0.3.21-gcc_10_3_0.dll\n",
      "  warnings.warn(\"loaded more than 1 DLL from .libs:\"\n"
     ]
    },
    {
     "name": "stdout",
     "output_type": "stream",
     "text": [
      "[[[ 4  4  4]\n",
      "  [ 4  4  4]\n",
      "  [ 5  5  5]\n",
      "  ...\n",
      "  [ 5  5  5]\n",
      "  [ 5  5  5]\n",
      "  [ 5  5  5]]\n",
      "\n",
      " [[ 5  5  5]\n",
      "  [ 4  4  4]\n",
      "  [ 4  4  4]\n",
      "  ...\n",
      "  [ 4  4  4]\n",
      "  [ 3  3  3]\n",
      "  [ 4  4  4]]\n",
      "\n",
      " [[ 5  5  5]\n",
      "  [ 3  3  3]\n",
      "  [ 5  5  5]\n",
      "  ...\n",
      "  [ 5  5  5]\n",
      "  [ 5  5  5]\n",
      "  [ 5  5  5]]\n",
      "\n",
      " ...\n",
      "\n",
      " [[58 58 58]\n",
      "  [58 58 58]\n",
      "  [58 58 58]\n",
      "  ...\n",
      "  [58 58 58]\n",
      "  [58 58 58]\n",
      "  [58 58 58]]\n",
      "\n",
      " [[57 57 57]\n",
      "  [57 57 57]\n",
      "  [58 58 58]\n",
      "  ...\n",
      "  [58 58 58]\n",
      "  [58 58 58]\n",
      "  [58 58 58]]\n",
      "\n",
      " [[58 58 58]\n",
      "  [58 58 58]\n",
      "  [58 58 58]\n",
      "  ...\n",
      "  [58 58 58]\n",
      "  [58 58 58]\n",
      "  [58 58 58]]]\n",
      "(600, 1200, 3)\n"
     ]
    },
    {
     "data": {
      "text/plain": [
       "32"
      ]
     },
     "execution_count": 1,
     "metadata": {},
     "output_type": "execute_result"
    }
   ],
   "source": [
    "import cv2\n",
    "\n",
    "img = cv2.imread('phone.jpg')\n",
    "\n",
    "print(img)\n",
    "print(img.shape)\n",
    "\n",
    "cv2.rectangle(img, pt1=(300, 110), pt2=(540, 420), color=(255, 0, 0), thickness=2)\n",
    "cv2.circle(img, center=(420, 260), radius=200, color=(0,0,255), thickness=3)\n",
    "\n",
    "cropped_img = img[110:420, 300:540]\n",
    "resized_img = cv2.resize(img, (512, 256))\n",
    "\n",
    "img_rgb = cv2.cvtColor(img, cv2.COLOR_BGR2GRAY)\n",
    "\n",
    "cv2.imshow('result', img_rgb)\n",
    "cv2.waitKey(0)\n",
    "\n",
    "cv2.imshow('resized', resized_img)\n",
    "cv2.imshow('crop', cropped_img)\n",
    "cv2.imshow('img', img)\n",
    "cv2.waitKey(0)\n",
    "\n",
    "\n",
    "\n",
    "\n",
    "\n",
    "\n",
    "\n",
    "\n",
    "\n",
    "\n",
    "\n"
   ]
  }
 ],
 "metadata": {
  "kernelspec": {
   "display_name": "im_000000",
   "language": "python",
   "name": "im_000000"
  },
  "language_info": {
   "codemirror_mode": {
    "name": "ipython",
    "version": 3
   },
   "file_extension": ".py",
   "mimetype": "text/x-python",
   "name": "python",
   "nbconvert_exporter": "python",
   "pygments_lexer": "ipython3",
   "version": "3.9.13"
  }
 },
 "nbformat": 4,
 "nbformat_minor": 5
}
