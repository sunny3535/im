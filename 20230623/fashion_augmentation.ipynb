{
 "cells": [
  {
   "cell_type": "code",
   "execution_count": 17,
   "id": "6f499e86",
   "metadata": {},
   "outputs": [],
   "source": [
    "import tensorflow as tf\n",
    "\n",
    "(trainX, trainY), (validX, validY) = tf.keras.datasets.fashion_mnist.load_data()\n",
    "\n",
    "trainX[0]\n",
    "trainX.shape\n",
    "validX.shape\n",
    "# 정답 레이블, 사진의 종류 10가지\n",
    "trainY\n",
    "\n",
    "class_names=['T-shirt/top', 'Trouser', 'Pullover', 'Dress','Coat', 'Sandal', 'Shirt', 'Sneaker', 'Bag', 'Ankle boot']"
   ]
  },
  {
   "cell_type": "code",
   "execution_count": 18,
   "id": "dcaeb52e",
   "metadata": {},
   "outputs": [],
   "source": [
    "import numpy as np\n",
    "\n",
    "trainX = trainX / 255.0\n",
    "validX = validX / 255.0\n",
    "\n",
    "trainX = trainX.reshape((trainX.shape[0], trainX.shape[1], trainX.shape[2], 1))\n",
    "validX = validX.reshape((validX.shape[0], validX.shape[1], validX.shape[2], 1))"
   ]
  },
  {
   "cell_type": "code",
   "execution_count": 19,
   "id": "5171358c",
   "metadata": {},
   "outputs": [],
   "source": [
    "model = tf.keras.Sequential([\n",
    "    tf.keras.layers.Conv2D(32, (3, 3), padding='same', activation='relu', input_shape=(28, 28, 1)),\n",
    "    tf.keras.layers.MaxPooling2D((2,2)),\n",
    "    tf.keras.layers.Flatten(),\n",
    "    tf.keras.layers.Dense(64, activation='relu'),\n",
    "    tf.keras.layers.Dense(10, activation='softmax')\n",
    "])\n",
    "\n"
   ]
  },
  {
   "cell_type": "code",
   "execution_count": 20,
   "id": "ab3fb9a1",
   "metadata": {},
   "outputs": [
    {
     "name": "stdout",
     "output_type": "stream",
     "text": [
      "<keras.preprocessing.image.NumpyArrayIterator object at 0x0000013FA55A5490>\n"
     ]
    }
   ],
   "source": [
    "datagen = tf.keras.preprocessing.image.ImageDataGenerator(\n",
    "    rotation_range = 10,\n",
    "    zoom_range = 0.1,\n",
    "    width_shift_range = 0.1, \n",
    "    height_shift_range = 0.1, \n",
    "    horizontal_flip = True, \n",
    "    vertical_flip = False,\n",
    ")\n",
    "\n",
    "batch_size = 32\n",
    "\n",
    "trainD = datagen.flow(trainX, trainY, batch_size=batch_size)\n",
    "validD = datagen.flow(validX, validY, batch_size=batch_size)\n",
    "\n",
    "print(img_iter)\n",
    "datagen.fit(trainX)\n",
    "\n",
    "\n",
    "# gen = ImageDataGenerator(width_shift_range=shift_fraction,\n",
    "#                          height_shift_range=shift_fraction,\n",
    "#                          horizontal_flip=True)\n",
    "# batches = gen.flow(X_train, y_train, batch_size=batch_size)\n",
    "# val_batches = gen.flow(X_val, y_val, batch_size=batch_size)\n",
    "\n",
    "# fashion_train=fashion_model.fit_generator(batches, steps_per_epoch=X_train.shape[0]//batch_size, \n",
    "#                                           epochs=epochs,validation_data=val_batches, \n",
    "#                                                    validation_steps=X_val.shape[0]//batch_size, use_multiprocessing=True)\n",
    "\n",
    "model.summary()"
   ]
  },
  {
   "cell_type": "code",
   "execution_count": 22,
   "id": "c22fea43",
   "metadata": {},
   "outputs": [
    {
     "name": "stderr",
     "output_type": "stream",
     "text": [
      "C:\\Users\\sunny\\AppData\\Local\\Temp\\ipykernel_16188\\2267164362.py:4: UserWarning: `Model.fit_generator` is deprecated and will be removed in a future version. Please use `Model.fit`, which supports generators.\n",
      "  model.fit_generator(trainD, steps_per_epoch=len(trainX)//batch_size,\n"
     ]
    },
    {
     "name": "stdout",
     "output_type": "stream",
     "text": [
      "Epoch 1/5\n",
      "1875/1875 [==============================] - 68s 35ms/step - loss: 0.5278 - accuracy: 0.8048 - val_loss: 0.5255 - val_accuracy: 0.8111\n",
      "Epoch 2/5\n",
      "1875/1875 [==============================] - 67s 36ms/step - loss: 0.4722 - accuracy: 0.8239 - val_loss: 0.4718 - val_accuracy: 0.8255\n",
      "Epoch 3/5\n",
      "1875/1875 [==============================] - 60s 32ms/step - loss: 0.4457 - accuracy: 0.8339 - val_loss: 0.4583 - val_accuracy: 0.8272\n",
      "Epoch 4/5\n",
      "1875/1875 [==============================] - 34s 18ms/step - loss: 0.4226 - accuracy: 0.8430 - val_loss: 0.4557 - val_accuracy: 0.8274\n",
      "Epoch 5/5\n",
      "1875/1875 [==============================] - 37s 20ms/step - loss: 0.4081 - accuracy: 0.8470 - val_loss: 0.4292 - val_accuracy: 0.8382\n"
     ]
    },
    {
     "data": {
      "text/plain": [
       "<keras.callbacks.History at 0x13fa54dd550>"
      ]
     },
     "execution_count": 22,
     "metadata": {},
     "output_type": "execute_result"
    }
   ],
   "source": [
    "\n",
    "\n",
    "model.compile(optimizer='adam', loss='sparse_categorical_crossentropy', metrics=['accuracy'])\n",
    "\n",
    "# model.fit(trainX, trainY, validation_data=(validX, validY), epochs=5)\n",
    "model.fit_generator(trainD, steps_per_epoch=len(trainX)//batch_size, \n",
    "                    validation_data=(validD),validation_steps=validX.shape[0]//batch_size, epochs=5)\n",
    "\n"
   ]
  },
  {
   "cell_type": "code",
   "execution_count": null,
   "id": "91c00bb6",
   "metadata": {},
   "outputs": [],
   "source": []
  }
 ],
 "metadata": {
  "kernelspec": {
   "display_name": "im_000000",
   "language": "python",
   "name": "im_000000"
  },
  "language_info": {
   "codemirror_mode": {
    "name": "ipython",
    "version": 3
   },
   "file_extension": ".py",
   "mimetype": "text/x-python",
   "name": "python",
   "nbconvert_exporter": "python",
   "pygments_lexer": "ipython3",
   "version": "3.9.13"
  }
 },
 "nbformat": 4,
 "nbformat_minor": 5
}
