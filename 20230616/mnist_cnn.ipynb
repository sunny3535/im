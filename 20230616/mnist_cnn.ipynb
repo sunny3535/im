{
 "cells": [
  {
   "cell_type": "code",
   "execution_count": 3,
   "id": "42f1301c",
   "metadata": {},
   "outputs": [],
   "source": [
    "import tensorflow as tf\n",
    "\n",
    "(trainX, trainY), (validX, validY) = tf.keras.datasets.mnist.load_data()\n"
   ]
  },
  {
   "cell_type": "code",
   "execution_count": null,
   "id": "dad8f2ee",
   "metadata": {
    "scrolled": true
   },
   "outputs": [
    {
     "name": "stdout",
     "output_type": "stream",
     "text": [
      "Model: \"sequential_1\"\n",
      "_________________________________________________________________\n",
      " Layer (type)                Output Shape              Param #   \n",
      "=================================================================\n",
      " conv2d_1 (Conv2D)           (None, 28, 28, 32)        320       \n",
      "                                                                 \n",
      " max_pooling2d_1 (MaxPooling  (None, 14, 14, 32)       0         \n",
      " 2D)                                                             \n",
      "                                                                 \n",
      " flatten_1 (Flatten)         (None, 6272)              0         \n",
      "                                                                 \n",
      " dense_2 (Dense)             (None, 64)                401472    \n",
      "                                                                 \n",
      " dense_3 (Dense)             (None, 10)                650       \n",
      "                                                                 \n",
      "=================================================================\n",
      "Total params: 402,442\n",
      "Trainable params: 402,442\n",
      "Non-trainable params: 0\n",
      "_________________________________________________________________\n",
      "Epoch 1/5\n",
      "1875/1875 [==============================] - 21s 11ms/step - loss: 0.1728 - accuracy: 0.9492 - val_loss: 0.0715 - val_accuracy: 0.9774\n",
      "Epoch 2/5\n",
      "1875/1875 [==============================] - 27s 14ms/step - loss: 0.0613 - accuracy: 0.9811 - val_loss: 0.0552 - val_accuracy: 0.9817\n",
      "Epoch 3/5\n",
      "1875/1875 [==============================] - 27s 15ms/step - loss: 0.0409 - accuracy: 0.9875 - val_loss: 0.0513 - val_accuracy: 0.9823\n",
      "Epoch 4/5\n",
      "  76/1875 [>.............................] - ETA: 27s - loss: 0.0238 - accuracy: 0.9942"
     ]
    }
   ],
   "source": [
    "(trainX, trainY), (validX, validY) = tf.keras.datasets.mnist.load_data()\n",
    "\n",
    "import numpy as np\n",
    "\n",
    "# trainX.reshape((60000, 28, 28, 1))\n",
    "trainX = trainX / 255.0\n",
    "validX = validX / 255.0\n",
    "\n",
    "trainX = trainX.reshape((trainX.shape[0], trainX.shape[1], trainX.shape[2], 1))\n",
    "validX = validX.reshape((validX.shape[0], validX.shape[1], validX.shape[2], 1))\n",
    "\n",
    "model = tf.keras.Sequential([\n",
    "    tf.keras.layers.Conv2D(32, (3, 3), padding='same', activation='relu', input_shape=(28, 28, 1)),\n",
    "    tf.keras.layers.MaxPooling2D((2,2)),\n",
    "#     tf.keras.layers.Dense(128, activation='relu', input_shape=(28, 28)),\n",
    "    tf.keras.layers.Flatten(),\n",
    "    tf.keras.layers.Dense(64, activation='relu'),\n",
    "    tf.keras.layers.Dense(10, activation='softmax')\n",
    "    \n",
    "])\n",
    "# relu : 음수의 값을 제거해주세요.\n",
    "# [0.2, 0.4 ....0.1] 확률 10개\n",
    "\n",
    "model.summary()\n",
    "\n",
    "model.compile(optimizer='adam', loss='sparse_categorical_crossentropy', metrics=['accuracy'])\n",
    "\n",
    "model.fit(trainX, trainY, validation_data=(validX, validY), epochs=5)\n",
    "\n",
    "model.save('mnist_cnn.h5')"
   ]
  },
  {
   "cell_type": "code",
   "execution_count": null,
   "id": "557f1a7c",
   "metadata": {},
   "outputs": [],
   "source": []
  }
 ],
 "metadata": {
  "kernelspec": {
   "display_name": "im_000000",
   "language": "python",
   "name": "im_000000"
  },
  "language_info": {
   "codemirror_mode": {
    "name": "ipython",
    "version": 3
   },
   "file_extension": ".py",
   "mimetype": "text/x-python",
   "name": "python",
   "nbconvert_exporter": "python",
   "pygments_lexer": "ipython3",
   "version": "3.9.13"
  }
 },
 "nbformat": 4,
 "nbformat_minor": 5
}
